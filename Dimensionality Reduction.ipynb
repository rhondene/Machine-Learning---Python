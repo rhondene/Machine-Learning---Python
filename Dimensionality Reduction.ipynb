{
 "cells": [
  {
   "cell_type": "markdown",
   "metadata": {},
   "source": [
    "<b> Reference material,<i> Python Machine Learning</i> by S.Rashcka</b>\n",
    "Cover:\n",
    "1. <b>PCA</b> (unspervised data compression)\n",
    "2. <b>Linear Discriminant Analysis</b> (supervised dim reduction for maximizing class separatability) \n",
    "3. <b> Kernel Principal Component Analysis</b> (nonlinear dim reduction \n",
    "\n",
    "I implemented PCA and Kmeans in Matlab so i'm interested to do so in Python"
   ]
  },
  {
   "cell_type": "markdown",
   "metadata": {},
   "source": [
    "<b> PCA</b> aims to find the lower dimension subspace onto which to project the data such that the squared projection error is minimised. It tries to find the orthogonal component axes of maximum variaance in a dataset  (see hardnotebook)\n",
    "Trying to reduce an n-dimensionanal feature space to a <i>k</i> dimensions such that k<<n. It chooses the subspace based on the greatest variance \n",
    "1. Feature Scaling   \n",
    "2. Compute the covariance matrix (by singular value decomposition)\n",
    "    the covariance computation will return 3 matrices, interested in the first matrix U  \n",
    "3. Get the eigenvector matrix which projects X to a lower subspace Z of k dimensions\n",
    "    the first k columns from U are eigenvectors \n",
    "    U(:,1:k)'* X = z \n",
    " \n",
    "<b> Practical Issues</b>\n",
    "\n",
    "1. Because PCA due to dependency on covariance matrix is sensitive to large values. if a feature is too large then it will dominate and be a principal component, thus we MUST do feature scaling and normalisation.  \n",
    "2. Assumes subspace is linear.\n",
    "\n",
    "<b> StatQuest Youtube channel on PCA </b>  \n",
    "\n",
    "PCA reduces high dimensional feature space to a lower dimension feature subsapce by choosing axes or direction that captures most of the variation.  \n",
    "The first principal component, <i> PC1</i> captures most of the variation within the data. PC2 captures the second most variation, PC3 the third most and so on.\n",
    "<i> Influence of a Feature</i> The eigenvalues are the weights that measure/scores the influence on of a feature on PC1. <b> The feature with the most variation between instances exerts the most influence on the principal componenent axes</b>.  So U is really a weight matrix used to project the feature matrix X onto its subspace or principal component axes, hence the feature with the largest weight will influence the PCs, again why feature scaling and normalisation is crucial for PCA.   \n",
    "\n",
    "A successful PCA will have PC1 - PC3 capturing the majority of variation within the data."
   ]
  },
  {
   "cell_type": "code",
   "execution_count": 3,
   "metadata": {
    "collapsed": true
   },
   "outputs": [],
   "source": [
    "import pandas as pd\n"
   ]
  },
  {
   "cell_type": "code",
   "execution_count": 4,
   "metadata": {},
   "outputs": [
    {
     "data": {
      "text/html": [
       "<div>\n",
       "<style>\n",
       "    .dataframe thead tr:only-child th {\n",
       "        text-align: right;\n",
       "    }\n",
       "\n",
       "    .dataframe thead th {\n",
       "        text-align: left;\n",
       "    }\n",
       "\n",
       "    .dataframe tbody tr th {\n",
       "        vertical-align: top;\n",
       "    }\n",
       "</style>\n",
       "<table border=\"1\" class=\"dataframe\">\n",
       "  <thead>\n",
       "    <tr style=\"text-align: right;\">\n",
       "      <th></th>\n",
       "      <th>0</th>\n",
       "      <th>1</th>\n",
       "      <th>2</th>\n",
       "      <th>3</th>\n",
       "      <th>4</th>\n",
       "      <th>5</th>\n",
       "      <th>6</th>\n",
       "      <th>7</th>\n",
       "      <th>8</th>\n",
       "      <th>9</th>\n",
       "      <th>10</th>\n",
       "      <th>11</th>\n",
       "      <th>12</th>\n",
       "      <th>13</th>\n",
       "    </tr>\n",
       "  </thead>\n",
       "  <tbody>\n",
       "    <tr>\n",
       "      <th>0</th>\n",
       "      <td>1</td>\n",
       "      <td>14.23</td>\n",
       "      <td>1.71</td>\n",
       "      <td>2.43</td>\n",
       "      <td>15.6</td>\n",
       "      <td>127</td>\n",
       "      <td>2.80</td>\n",
       "      <td>3.06</td>\n",
       "      <td>0.28</td>\n",
       "      <td>2.29</td>\n",
       "      <td>5.64</td>\n",
       "      <td>1.04</td>\n",
       "      <td>3.92</td>\n",
       "      <td>1065</td>\n",
       "    </tr>\n",
       "    <tr>\n",
       "      <th>1</th>\n",
       "      <td>1</td>\n",
       "      <td>13.20</td>\n",
       "      <td>1.78</td>\n",
       "      <td>2.14</td>\n",
       "      <td>11.2</td>\n",
       "      <td>100</td>\n",
       "      <td>2.65</td>\n",
       "      <td>2.76</td>\n",
       "      <td>0.26</td>\n",
       "      <td>1.28</td>\n",
       "      <td>4.38</td>\n",
       "      <td>1.05</td>\n",
       "      <td>3.40</td>\n",
       "      <td>1050</td>\n",
       "    </tr>\n",
       "    <tr>\n",
       "      <th>2</th>\n",
       "      <td>1</td>\n",
       "      <td>13.16</td>\n",
       "      <td>2.36</td>\n",
       "      <td>2.67</td>\n",
       "      <td>18.6</td>\n",
       "      <td>101</td>\n",
       "      <td>2.80</td>\n",
       "      <td>3.24</td>\n",
       "      <td>0.30</td>\n",
       "      <td>2.81</td>\n",
       "      <td>5.68</td>\n",
       "      <td>1.03</td>\n",
       "      <td>3.17</td>\n",
       "      <td>1185</td>\n",
       "    </tr>\n",
       "    <tr>\n",
       "      <th>3</th>\n",
       "      <td>1</td>\n",
       "      <td>14.37</td>\n",
       "      <td>1.95</td>\n",
       "      <td>2.50</td>\n",
       "      <td>16.8</td>\n",
       "      <td>113</td>\n",
       "      <td>3.85</td>\n",
       "      <td>3.49</td>\n",
       "      <td>0.24</td>\n",
       "      <td>2.18</td>\n",
       "      <td>7.80</td>\n",
       "      <td>0.86</td>\n",
       "      <td>3.45</td>\n",
       "      <td>1480</td>\n",
       "    </tr>\n",
       "    <tr>\n",
       "      <th>4</th>\n",
       "      <td>1</td>\n",
       "      <td>13.24</td>\n",
       "      <td>2.59</td>\n",
       "      <td>2.87</td>\n",
       "      <td>21.0</td>\n",
       "      <td>118</td>\n",
       "      <td>2.80</td>\n",
       "      <td>2.69</td>\n",
       "      <td>0.39</td>\n",
       "      <td>1.82</td>\n",
       "      <td>4.32</td>\n",
       "      <td>1.04</td>\n",
       "      <td>2.93</td>\n",
       "      <td>735</td>\n",
       "    </tr>\n",
       "    <tr>\n",
       "      <th>5</th>\n",
       "      <td>1</td>\n",
       "      <td>14.20</td>\n",
       "      <td>1.76</td>\n",
       "      <td>2.45</td>\n",
       "      <td>15.2</td>\n",
       "      <td>112</td>\n",
       "      <td>3.27</td>\n",
       "      <td>3.39</td>\n",
       "      <td>0.34</td>\n",
       "      <td>1.97</td>\n",
       "      <td>6.75</td>\n",
       "      <td>1.05</td>\n",
       "      <td>2.85</td>\n",
       "      <td>1450</td>\n",
       "    </tr>\n",
       "    <tr>\n",
       "      <th>6</th>\n",
       "      <td>1</td>\n",
       "      <td>14.39</td>\n",
       "      <td>1.87</td>\n",
       "      <td>2.45</td>\n",
       "      <td>14.6</td>\n",
       "      <td>96</td>\n",
       "      <td>2.50</td>\n",
       "      <td>2.52</td>\n",
       "      <td>0.30</td>\n",
       "      <td>1.98</td>\n",
       "      <td>5.25</td>\n",
       "      <td>1.02</td>\n",
       "      <td>3.58</td>\n",
       "      <td>1290</td>\n",
       "    </tr>\n",
       "    <tr>\n",
       "      <th>7</th>\n",
       "      <td>1</td>\n",
       "      <td>14.06</td>\n",
       "      <td>2.15</td>\n",
       "      <td>2.61</td>\n",
       "      <td>17.6</td>\n",
       "      <td>121</td>\n",
       "      <td>2.60</td>\n",
       "      <td>2.51</td>\n",
       "      <td>0.31</td>\n",
       "      <td>1.25</td>\n",
       "      <td>5.05</td>\n",
       "      <td>1.06</td>\n",
       "      <td>3.58</td>\n",
       "      <td>1295</td>\n",
       "    </tr>\n",
       "    <tr>\n",
       "      <th>8</th>\n",
       "      <td>1</td>\n",
       "      <td>14.83</td>\n",
       "      <td>1.64</td>\n",
       "      <td>2.17</td>\n",
       "      <td>14.0</td>\n",
       "      <td>97</td>\n",
       "      <td>2.80</td>\n",
       "      <td>2.98</td>\n",
       "      <td>0.29</td>\n",
       "      <td>1.98</td>\n",
       "      <td>5.20</td>\n",
       "      <td>1.08</td>\n",
       "      <td>2.85</td>\n",
       "      <td>1045</td>\n",
       "    </tr>\n",
       "    <tr>\n",
       "      <th>9</th>\n",
       "      <td>1</td>\n",
       "      <td>13.86</td>\n",
       "      <td>1.35</td>\n",
       "      <td>2.27</td>\n",
       "      <td>16.0</td>\n",
       "      <td>98</td>\n",
       "      <td>2.98</td>\n",
       "      <td>3.15</td>\n",
       "      <td>0.22</td>\n",
       "      <td>1.85</td>\n",
       "      <td>7.22</td>\n",
       "      <td>1.01</td>\n",
       "      <td>3.55</td>\n",
       "      <td>1045</td>\n",
       "    </tr>\n",
       "    <tr>\n",
       "      <th>10</th>\n",
       "      <td>1</td>\n",
       "      <td>14.10</td>\n",
       "      <td>2.16</td>\n",
       "      <td>2.30</td>\n",
       "      <td>18.0</td>\n",
       "      <td>105</td>\n",
       "      <td>2.95</td>\n",
       "      <td>3.32</td>\n",
       "      <td>0.22</td>\n",
       "      <td>2.38</td>\n",
       "      <td>5.75</td>\n",
       "      <td>1.25</td>\n",
       "      <td>3.17</td>\n",
       "      <td>1510</td>\n",
       "    </tr>\n",
       "    <tr>\n",
       "      <th>11</th>\n",
       "      <td>1</td>\n",
       "      <td>14.12</td>\n",
       "      <td>1.48</td>\n",
       "      <td>2.32</td>\n",
       "      <td>16.8</td>\n",
       "      <td>95</td>\n",
       "      <td>2.20</td>\n",
       "      <td>2.43</td>\n",
       "      <td>0.26</td>\n",
       "      <td>1.57</td>\n",
       "      <td>5.00</td>\n",
       "      <td>1.17</td>\n",
       "      <td>2.82</td>\n",
       "      <td>1280</td>\n",
       "    </tr>\n",
       "    <tr>\n",
       "      <th>12</th>\n",
       "      <td>1</td>\n",
       "      <td>13.75</td>\n",
       "      <td>1.73</td>\n",
       "      <td>2.41</td>\n",
       "      <td>16.0</td>\n",
       "      <td>89</td>\n",
       "      <td>2.60</td>\n",
       "      <td>2.76</td>\n",
       "      <td>0.29</td>\n",
       "      <td>1.81</td>\n",
       "      <td>5.60</td>\n",
       "      <td>1.15</td>\n",
       "      <td>2.90</td>\n",
       "      <td>1320</td>\n",
       "    </tr>\n",
       "    <tr>\n",
       "      <th>13</th>\n",
       "      <td>1</td>\n",
       "      <td>14.75</td>\n",
       "      <td>1.73</td>\n",
       "      <td>2.39</td>\n",
       "      <td>11.4</td>\n",
       "      <td>91</td>\n",
       "      <td>3.10</td>\n",
       "      <td>3.69</td>\n",
       "      <td>0.43</td>\n",
       "      <td>2.81</td>\n",
       "      <td>5.40</td>\n",
       "      <td>1.25</td>\n",
       "      <td>2.73</td>\n",
       "      <td>1150</td>\n",
       "    </tr>\n",
       "    <tr>\n",
       "      <th>14</th>\n",
       "      <td>1</td>\n",
       "      <td>14.38</td>\n",
       "      <td>1.87</td>\n",
       "      <td>2.38</td>\n",
       "      <td>12.0</td>\n",
       "      <td>102</td>\n",
       "      <td>3.30</td>\n",
       "      <td>3.64</td>\n",
       "      <td>0.29</td>\n",
       "      <td>2.96</td>\n",
       "      <td>7.50</td>\n",
       "      <td>1.20</td>\n",
       "      <td>3.00</td>\n",
       "      <td>1547</td>\n",
       "    </tr>\n",
       "    <tr>\n",
       "      <th>15</th>\n",
       "      <td>1</td>\n",
       "      <td>13.63</td>\n",
       "      <td>1.81</td>\n",
       "      <td>2.70</td>\n",
       "      <td>17.2</td>\n",
       "      <td>112</td>\n",
       "      <td>2.85</td>\n",
       "      <td>2.91</td>\n",
       "      <td>0.30</td>\n",
       "      <td>1.46</td>\n",
       "      <td>7.30</td>\n",
       "      <td>1.28</td>\n",
       "      <td>2.88</td>\n",
       "      <td>1310</td>\n",
       "    </tr>\n",
       "    <tr>\n",
       "      <th>16</th>\n",
       "      <td>1</td>\n",
       "      <td>14.30</td>\n",
       "      <td>1.92</td>\n",
       "      <td>2.72</td>\n",
       "      <td>20.0</td>\n",
       "      <td>120</td>\n",
       "      <td>2.80</td>\n",
       "      <td>3.14</td>\n",
       "      <td>0.33</td>\n",
       "      <td>1.97</td>\n",
       "      <td>6.20</td>\n",
       "      <td>1.07</td>\n",
       "      <td>2.65</td>\n",
       "      <td>1280</td>\n",
       "    </tr>\n",
       "    <tr>\n",
       "      <th>17</th>\n",
       "      <td>1</td>\n",
       "      <td>13.83</td>\n",
       "      <td>1.57</td>\n",
       "      <td>2.62</td>\n",
       "      <td>20.0</td>\n",
       "      <td>115</td>\n",
       "      <td>2.95</td>\n",
       "      <td>3.40</td>\n",
       "      <td>0.40</td>\n",
       "      <td>1.72</td>\n",
       "      <td>6.60</td>\n",
       "      <td>1.13</td>\n",
       "      <td>2.57</td>\n",
       "      <td>1130</td>\n",
       "    </tr>\n",
       "    <tr>\n",
       "      <th>18</th>\n",
       "      <td>1</td>\n",
       "      <td>14.19</td>\n",
       "      <td>1.59</td>\n",
       "      <td>2.48</td>\n",
       "      <td>16.5</td>\n",
       "      <td>108</td>\n",
       "      <td>3.30</td>\n",
       "      <td>3.93</td>\n",
       "      <td>0.32</td>\n",
       "      <td>1.86</td>\n",
       "      <td>8.70</td>\n",
       "      <td>1.23</td>\n",
       "      <td>2.82</td>\n",
       "      <td>1680</td>\n",
       "    </tr>\n",
       "    <tr>\n",
       "      <th>19</th>\n",
       "      <td>1</td>\n",
       "      <td>13.64</td>\n",
       "      <td>3.10</td>\n",
       "      <td>2.56</td>\n",
       "      <td>15.2</td>\n",
       "      <td>116</td>\n",
       "      <td>2.70</td>\n",
       "      <td>3.03</td>\n",
       "      <td>0.17</td>\n",
       "      <td>1.66</td>\n",
       "      <td>5.10</td>\n",
       "      <td>0.96</td>\n",
       "      <td>3.36</td>\n",
       "      <td>845</td>\n",
       "    </tr>\n",
       "  </tbody>\n",
       "</table>\n",
       "</div>"
      ],
      "text/plain": [
       "    0      1     2     3     4    5     6     7     8     9     10    11  \\\n",
       "0    1  14.23  1.71  2.43  15.6  127  2.80  3.06  0.28  2.29  5.64  1.04   \n",
       "1    1  13.20  1.78  2.14  11.2  100  2.65  2.76  0.26  1.28  4.38  1.05   \n",
       "2    1  13.16  2.36  2.67  18.6  101  2.80  3.24  0.30  2.81  5.68  1.03   \n",
       "3    1  14.37  1.95  2.50  16.8  113  3.85  3.49  0.24  2.18  7.80  0.86   \n",
       "4    1  13.24  2.59  2.87  21.0  118  2.80  2.69  0.39  1.82  4.32  1.04   \n",
       "5    1  14.20  1.76  2.45  15.2  112  3.27  3.39  0.34  1.97  6.75  1.05   \n",
       "6    1  14.39  1.87  2.45  14.6   96  2.50  2.52  0.30  1.98  5.25  1.02   \n",
       "7    1  14.06  2.15  2.61  17.6  121  2.60  2.51  0.31  1.25  5.05  1.06   \n",
       "8    1  14.83  1.64  2.17  14.0   97  2.80  2.98  0.29  1.98  5.20  1.08   \n",
       "9    1  13.86  1.35  2.27  16.0   98  2.98  3.15  0.22  1.85  7.22  1.01   \n",
       "10   1  14.10  2.16  2.30  18.0  105  2.95  3.32  0.22  2.38  5.75  1.25   \n",
       "11   1  14.12  1.48  2.32  16.8   95  2.20  2.43  0.26  1.57  5.00  1.17   \n",
       "12   1  13.75  1.73  2.41  16.0   89  2.60  2.76  0.29  1.81  5.60  1.15   \n",
       "13   1  14.75  1.73  2.39  11.4   91  3.10  3.69  0.43  2.81  5.40  1.25   \n",
       "14   1  14.38  1.87  2.38  12.0  102  3.30  3.64  0.29  2.96  7.50  1.20   \n",
       "15   1  13.63  1.81  2.70  17.2  112  2.85  2.91  0.30  1.46  7.30  1.28   \n",
       "16   1  14.30  1.92  2.72  20.0  120  2.80  3.14  0.33  1.97  6.20  1.07   \n",
       "17   1  13.83  1.57  2.62  20.0  115  2.95  3.40  0.40  1.72  6.60  1.13   \n",
       "18   1  14.19  1.59  2.48  16.5  108  3.30  3.93  0.32  1.86  8.70  1.23   \n",
       "19   1  13.64  3.10  2.56  15.2  116  2.70  3.03  0.17  1.66  5.10  0.96   \n",
       "\n",
       "      12    13  \n",
       "0   3.92  1065  \n",
       "1   3.40  1050  \n",
       "2   3.17  1185  \n",
       "3   3.45  1480  \n",
       "4   2.93   735  \n",
       "5   2.85  1450  \n",
       "6   3.58  1290  \n",
       "7   3.58  1295  \n",
       "8   2.85  1045  \n",
       "9   3.55  1045  \n",
       "10  3.17  1510  \n",
       "11  2.82  1280  \n",
       "12  2.90  1320  \n",
       "13  2.73  1150  \n",
       "14  3.00  1547  \n",
       "15  2.88  1310  \n",
       "16  2.65  1280  \n",
       "17  2.57  1130  \n",
       "18  2.82  1680  \n",
       "19  3.36   845  "
      ]
     },
     "execution_count": 4,
     "metadata": {},
     "output_type": "execute_result"
    }
   ],
   "source": [
    "df_wine = pd.read_csv('wine.data.txt', header=None)\n",
    "df_wine.head(20)"
   ]
  },
  {
   "cell_type": "code",
   "execution_count": 5,
   "metadata": {},
   "outputs": [
    {
     "name": "stdout",
     "output_type": "stream",
     "text": [
      "<class 'pandas.core.frame.DataFrame'>\n",
      "RangeIndex: 178 entries, 0 to 177\n",
      "Data columns (total 14 columns):\n",
      "0     178 non-null int64\n",
      "1     178 non-null float64\n",
      "2     178 non-null float64\n",
      "3     178 non-null float64\n",
      "4     178 non-null float64\n",
      "5     178 non-null int64\n",
      "6     178 non-null float64\n",
      "7     178 non-null float64\n",
      "8     178 non-null float64\n",
      "9     178 non-null float64\n",
      "10    178 non-null float64\n",
      "11    178 non-null float64\n",
      "12    178 non-null float64\n",
      "13    178 non-null int64\n",
      "dtypes: float64(11), int64(3)\n",
      "memory usage: 19.5 KB\n"
     ]
    }
   ],
   "source": [
    "df_wine.info()"
   ]
  },
  {
   "cell_type": "code",
   "execution_count": 6,
   "metadata": {},
   "outputs": [
    {
     "name": "stderr",
     "output_type": "stream",
     "text": [
      "C:\\ProgramData\\Anaconda3\\lib\\site-packages\\sklearn\\cross_validation.py:41: DeprecationWarning: This module was deprecated in version 0.18 in favor of the model_selection module into which all the refactored classes and functions are moved. Also note that the interface of the new CV iterators are different from that of this module. This module will be removed in 0.20.\n",
      "  \"This module will be removed in 0.20.\", DeprecationWarning)\n"
     ]
    }
   ],
   "source": [
    "#Preprocessing\n",
    "from sklearn.cross_validation import train_test_split\n",
    "from sklearn.preprocessing import StandardScaler\n",
    "X,y = df_wine.iloc[:,1:].values, df_wine.iloc[:,0].values #first column is output Y column\n",
    "X_train, X_test, y_train, y_test = train_test_split(X,y,test_size=0.3, random_state=0)\n"
   ]
  },
  {
   "cell_type": "code",
   "execution_count": 7,
   "metadata": {
    "collapsed": true
   },
   "outputs": [],
   "source": [
    "sc = StandardScaler()\n",
    "X_train_std = sc.fit_transform(X_train)\n",
    "X_test_std = sc.fit_transform(X_test)"
   ]
  },
  {
   "cell_type": "markdown",
   "metadata": {},
   "source": [
    "<b> Covariance Matrix</b>\n",
    "\n",
    "Recall that <i> variance</i> measures the variability or spread in a dataset. More specifically, variance is average squared deviation from the mean.   <b> Sum( xi - ui)^2/N </b>  \n",
    "\n",
    "<b>Covariance Matrix</b>, E (Sigma irl),  measures the extent to which two features xi, xj, move in the same direction. Its the average of the product of their mean deviation.   \n",
    "............ <b> Sum(xi - ui)(xj - uj)/N </b>   \n",
    "Covariance matrix is nxn dimensions.  A positive covariance between two features indicates that they increase or decrease together, conversely a negative covariance means that the features change diametrically.  \n",
    "\n",
    "\n"
   ]
  },
  {
   "cell_type": "code",
   "execution_count": 8,
   "metadata": {},
   "outputs": [
    {
     "name": "stdout",
     "output_type": "stream",
     "text": [
      "\n",
      " EigenValues \n",
      "[ 4.8923083   2.46635032  1.42809973  1.01233462  0.84906459  0.60181514\n",
      "  0.52251546  0.08414846  0.33051429  0.29595018  0.16831254  0.21432212\n",
      "  0.2399553 ]\n"
     ]
    }
   ],
   "source": [
    "import numpy as np\n",
    "cov_matrix = np.cov(X_train_std.T)\n",
    "eigen_vals, eigen_vecs = np.linalg.eig(cov_matrix)\n",
    "print('\\n EigenValues \\n%s' %eigen_vals)\n"
   ]
  },
  {
   "cell_type": "code",
   "execution_count": 9,
   "metadata": {},
   "outputs": [
    {
     "name": "stdout",
     "output_type": "stream",
     "text": [
      "Eigen_vec size 169\n"
     ]
    }
   ],
   "source": [
    "print('Eigen_vec size', np.size(eigen_vecs))"
   ]
  },
  {
   "cell_type": "code",
   "execution_count": 10,
   "metadata": {},
   "outputs": [
    {
     "data": {
      "text/html": [
       "<div>\n",
       "<style>\n",
       "    .dataframe thead tr:only-child th {\n",
       "        text-align: right;\n",
       "    }\n",
       "\n",
       "    .dataframe thead th {\n",
       "        text-align: left;\n",
       "    }\n",
       "\n",
       "    .dataframe tbody tr th {\n",
       "        vertical-align: top;\n",
       "    }\n",
       "</style>\n",
       "<table border=\"1\" class=\"dataframe\">\n",
       "  <thead>\n",
       "    <tr style=\"text-align: right;\">\n",
       "      <th></th>\n",
       "      <th>0</th>\n",
       "      <th>1</th>\n",
       "      <th>2</th>\n",
       "      <th>3</th>\n",
       "      <th>4</th>\n",
       "      <th>5</th>\n",
       "      <th>6</th>\n",
       "      <th>7</th>\n",
       "      <th>8</th>\n",
       "      <th>9</th>\n",
       "      <th>10</th>\n",
       "      <th>11</th>\n",
       "      <th>12</th>\n",
       "    </tr>\n",
       "  </thead>\n",
       "  <tbody>\n",
       "    <tr>\n",
       "      <th>0</th>\n",
       "      <td>0.146698</td>\n",
       "      <td>0.504171</td>\n",
       "      <td>-0.117235</td>\n",
       "      <td>0.206255</td>\n",
       "      <td>-0.187816</td>\n",
       "      <td>-0.148851</td>\n",
       "      <td>-0.179264</td>\n",
       "      <td>-0.055469</td>\n",
       "      <td>-0.403055</td>\n",
       "      <td>-0.417198</td>\n",
       "      <td>0.275661</td>\n",
       "      <td>0.403567</td>\n",
       "      <td>0.000413</td>\n",
       "    </tr>\n",
       "    <tr>\n",
       "      <th>1</th>\n",
       "      <td>-0.242246</td>\n",
       "      <td>0.242169</td>\n",
       "      <td>0.149947</td>\n",
       "      <td>0.130489</td>\n",
       "      <td>0.568640</td>\n",
       "      <td>-0.269053</td>\n",
       "      <td>-0.592637</td>\n",
       "      <td>0.033273</td>\n",
       "      <td>-0.101834</td>\n",
       "      <td>0.217101</td>\n",
       "      <td>-0.081385</td>\n",
       "      <td>-0.152475</td>\n",
       "      <td>-0.087856</td>\n",
       "    </tr>\n",
       "    <tr>\n",
       "      <th>2</th>\n",
       "      <td>-0.029934</td>\n",
       "      <td>0.286985</td>\n",
       "      <td>0.656394</td>\n",
       "      <td>0.015154</td>\n",
       "      <td>-0.299209</td>\n",
       "      <td>-0.093339</td>\n",
       "      <td>0.060733</td>\n",
       "      <td>-0.100619</td>\n",
       "      <td>0.351841</td>\n",
       "      <td>0.128550</td>\n",
       "      <td>-0.012975</td>\n",
       "      <td>0.168376</td>\n",
       "      <td>-0.452519</td>\n",
       "    </tr>\n",
       "    <tr>\n",
       "      <th>3</th>\n",
       "      <td>-0.255190</td>\n",
       "      <td>-0.064687</td>\n",
       "      <td>0.584282</td>\n",
       "      <td>-0.090422</td>\n",
       "      <td>-0.041250</td>\n",
       "      <td>-0.101342</td>\n",
       "      <td>0.250324</td>\n",
       "      <td>0.056166</td>\n",
       "      <td>-0.500457</td>\n",
       "      <td>0.047334</td>\n",
       "      <td>0.098909</td>\n",
       "      <td>-0.067090</td>\n",
       "      <td>0.486170</td>\n",
       "    </tr>\n",
       "    <tr>\n",
       "      <th>4</th>\n",
       "      <td>0.120798</td>\n",
       "      <td>0.229954</td>\n",
       "      <td>0.082263</td>\n",
       "      <td>-0.839128</td>\n",
       "      <td>-0.027197</td>\n",
       "      <td>0.112567</td>\n",
       "      <td>-0.285241</td>\n",
       "      <td>0.095842</td>\n",
       "      <td>0.083739</td>\n",
       "      <td>-0.278919</td>\n",
       "      <td>-0.095930</td>\n",
       "      <td>-0.102397</td>\n",
       "      <td>0.114765</td>\n",
       "    </tr>\n",
       "    <tr>\n",
       "      <th>5</th>\n",
       "      <td>0.389345</td>\n",
       "      <td>0.093640</td>\n",
       "      <td>0.180804</td>\n",
       "      <td>0.193179</td>\n",
       "      <td>0.140645</td>\n",
       "      <td>0.012225</td>\n",
       "      <td>0.053146</td>\n",
       "      <td>-0.421265</td>\n",
       "      <td>0.135111</td>\n",
       "      <td>-0.280986</td>\n",
       "      <td>0.283898</td>\n",
       "      <td>-0.618600</td>\n",
       "      <td>0.094565</td>\n",
       "    </tr>\n",
       "    <tr>\n",
       "      <th>6</th>\n",
       "      <td>0.423265</td>\n",
       "      <td>0.010886</td>\n",
       "      <td>0.142959</td>\n",
       "      <td>0.140460</td>\n",
       "      <td>0.092687</td>\n",
       "      <td>-0.055035</td>\n",
       "      <td>0.079899</td>\n",
       "      <td>0.847225</td>\n",
       "      <td>0.003360</td>\n",
       "      <td>-0.039144</td>\n",
       "      <td>0.116729</td>\n",
       "      <td>-0.139680</td>\n",
       "      <td>-0.100444</td>\n",
       "    </tr>\n",
       "    <tr>\n",
       "      <th>7</th>\n",
       "      <td>-0.306350</td>\n",
       "      <td>0.018702</td>\n",
       "      <td>0.172235</td>\n",
       "      <td>0.337333</td>\n",
       "      <td>-0.085842</td>\n",
       "      <td>0.695341</td>\n",
       "      <td>-0.297372</td>\n",
       "      <td>0.166257</td>\n",
       "      <td>0.190121</td>\n",
       "      <td>-0.278622</td>\n",
       "      <td>-0.039657</td>\n",
       "      <td>0.001633</td>\n",
       "      <td>0.200129</td>\n",
       "    </tr>\n",
       "    <tr>\n",
       "      <th>8</th>\n",
       "      <td>0.305722</td>\n",
       "      <td>0.030404</td>\n",
       "      <td>0.158362</td>\n",
       "      <td>-0.114753</td>\n",
       "      <td>0.565105</td>\n",
       "      <td>0.498354</td>\n",
       "      <td>0.202519</td>\n",
       "      <td>-0.166197</td>\n",
       "      <td>-0.176030</td>\n",
       "      <td>0.148539</td>\n",
       "      <td>0.086060</td>\n",
       "      <td>0.388568</td>\n",
       "      <td>-0.139942</td>\n",
       "    </tr>\n",
       "    <tr>\n",
       "      <th>9</th>\n",
       "      <td>-0.098692</td>\n",
       "      <td>0.545271</td>\n",
       "      <td>-0.142422</td>\n",
       "      <td>0.078786</td>\n",
       "      <td>0.013235</td>\n",
       "      <td>0.159452</td>\n",
       "      <td>0.397364</td>\n",
       "      <td>0.039617</td>\n",
       "      <td>-0.214931</td>\n",
       "      <td>-0.004102</td>\n",
       "      <td>-0.571652</td>\n",
       "      <td>-0.308346</td>\n",
       "      <td>-0.115349</td>\n",
       "    </tr>\n",
       "    <tr>\n",
       "      <th>10</th>\n",
       "      <td>0.300325</td>\n",
       "      <td>-0.279243</td>\n",
       "      <td>0.093239</td>\n",
       "      <td>0.024174</td>\n",
       "      <td>-0.372611</td>\n",
       "      <td>0.216515</td>\n",
       "      <td>-0.384655</td>\n",
       "      <td>-0.105384</td>\n",
       "      <td>-0.517259</td>\n",
       "      <td>0.197814</td>\n",
       "      <td>-0.198845</td>\n",
       "      <td>-0.200456</td>\n",
       "      <td>-0.302254</td>\n",
       "    </tr>\n",
       "    <tr>\n",
       "      <th>11</th>\n",
       "      <td>0.368212</td>\n",
       "      <td>-0.174365</td>\n",
       "      <td>0.196077</td>\n",
       "      <td>0.184029</td>\n",
       "      <td>0.089380</td>\n",
       "      <td>-0.235172</td>\n",
       "      <td>-0.086290</td>\n",
       "      <td>-0.099506</td>\n",
       "      <td>0.136456</td>\n",
       "      <td>-0.238138</td>\n",
       "      <td>-0.650870</td>\n",
       "      <td>0.284100</td>\n",
       "      <td>0.318414</td>\n",
       "    </tr>\n",
       "    <tr>\n",
       "      <th>12</th>\n",
       "      <td>0.292597</td>\n",
       "      <td>0.363155</td>\n",
       "      <td>-0.097317</td>\n",
       "      <td>0.056768</td>\n",
       "      <td>-0.217529</td>\n",
       "      <td>0.105621</td>\n",
       "      <td>-0.130298</td>\n",
       "      <td>-0.016066</td>\n",
       "      <td>0.167758</td>\n",
       "      <td>0.637350</td>\n",
       "      <td>0.071238</td>\n",
       "      <td>0.037555</td>\n",
       "      <td>0.503248</td>\n",
       "    </tr>\n",
       "  </tbody>\n",
       "</table>\n",
       "</div>"
      ],
      "text/plain": [
       "          0         1         2         3         4         5         6   \\\n",
       "0   0.146698  0.504171 -0.117235  0.206255 -0.187816 -0.148851 -0.179264   \n",
       "1  -0.242246  0.242169  0.149947  0.130489  0.568640 -0.269053 -0.592637   \n",
       "2  -0.029934  0.286985  0.656394  0.015154 -0.299209 -0.093339  0.060733   \n",
       "3  -0.255190 -0.064687  0.584282 -0.090422 -0.041250 -0.101342  0.250324   \n",
       "4   0.120798  0.229954  0.082263 -0.839128 -0.027197  0.112567 -0.285241   \n",
       "5   0.389345  0.093640  0.180804  0.193179  0.140645  0.012225  0.053146   \n",
       "6   0.423265  0.010886  0.142959  0.140460  0.092687 -0.055035  0.079899   \n",
       "7  -0.306350  0.018702  0.172235  0.337333 -0.085842  0.695341 -0.297372   \n",
       "8   0.305722  0.030404  0.158362 -0.114753  0.565105  0.498354  0.202519   \n",
       "9  -0.098692  0.545271 -0.142422  0.078786  0.013235  0.159452  0.397364   \n",
       "10  0.300325 -0.279243  0.093239  0.024174 -0.372611  0.216515 -0.384655   \n",
       "11  0.368212 -0.174365  0.196077  0.184029  0.089380 -0.235172 -0.086290   \n",
       "12  0.292597  0.363155 -0.097317  0.056768 -0.217529  0.105621 -0.130298   \n",
       "\n",
       "          7         8         9         10        11        12  \n",
       "0  -0.055469 -0.403055 -0.417198  0.275661  0.403567  0.000413  \n",
       "1   0.033273 -0.101834  0.217101 -0.081385 -0.152475 -0.087856  \n",
       "2  -0.100619  0.351841  0.128550 -0.012975  0.168376 -0.452519  \n",
       "3   0.056166 -0.500457  0.047334  0.098909 -0.067090  0.486170  \n",
       "4   0.095842  0.083739 -0.278919 -0.095930 -0.102397  0.114765  \n",
       "5  -0.421265  0.135111 -0.280986  0.283898 -0.618600  0.094565  \n",
       "6   0.847225  0.003360 -0.039144  0.116729 -0.139680 -0.100444  \n",
       "7   0.166257  0.190121 -0.278622 -0.039657  0.001633  0.200129  \n",
       "8  -0.166197 -0.176030  0.148539  0.086060  0.388568 -0.139942  \n",
       "9   0.039617 -0.214931 -0.004102 -0.571652 -0.308346 -0.115349  \n",
       "10 -0.105384 -0.517259  0.197814 -0.198845 -0.200456 -0.302254  \n",
       "11 -0.099506  0.136456 -0.238138 -0.650870  0.284100  0.318414  \n",
       "12 -0.016066  0.167758  0.637350  0.071238  0.037555  0.503248  "
      ]
     },
     "execution_count": 10,
     "metadata": {},
     "output_type": "execute_result"
    }
   ],
   "source": [
    "pd.DataFrame(eigen_vecs).head(20)"
   ]
  },
  {
   "cell_type": "code",
   "execution_count": 11,
   "metadata": {
    "collapsed": true
   },
   "outputs": [],
   "source": [
    "#Plot variance explained ratio of an eigenvalue--> fraction of an eigenvalue/sum of all eigenValues\n",
    "tot = sum(eigen_vals)\n",
    "var_exp = [(i/tot) for i in sorted(eigen_vals, reverse=True)] #descending order we want the top k eigen values\n",
    "cum_var_exp = np.cumsum(var_exp) #calculates the cumulative sum\n"
   ]
  },
  {
   "cell_type": "code",
   "execution_count": 12,
   "metadata": {
    "scrolled": true
   },
   "outputs": [
    {
     "data": {
      "image/png": "[encoded data removed]",
      "text/plain": [
       "<matplotlib.figure.Figure at 0xa795208>"
      ]
     },
     "metadata": {},
     "output_type": "display_data"
    }
   ],
   "source": [
    "import matplotlib.pyplot as plt\n",
    "plt.bar(range(1,14), var_exp, alpha=0.5, align='center', label='individual explained variance') #13 eigen values\n",
    "plt.step(range(1,14), cum_var_exp, where='mid', label = 'cumulative explained variance')\n",
    "plt.ylabel('Explained variance ratio')\n",
    "plt.xlabel('Principal components')\n",
    "plt.legend(loc = 'best')\n",
    "plt.show()"
   ]
  },
  {
   "cell_type": "markdown",
   "metadata": {},
   "source": [
    "the plot shows that the first principal component accounts for for 40% of the variance, while first 2 would be 60% (refresh on message of cumulative frequency) "
   ]
  },
  {
   "cell_type": "code",
   "execution_count": 13,
   "metadata": {},
   "outputs": [
    {
     "data": {
      "text/plain": [
       "(13, 13)"
      ]
     },
     "execution_count": 13,
     "metadata": {},
     "output_type": "execute_result"
    }
   ],
   "source": [
    "eigen_vecs.shape"
   ]
  },
  {
   "cell_type": "markdown",
   "metadata": {},
   "source": [
    "<b> Feature Transform Step</b>  \n",
    "The eigen pairs have been decomposed from the covariance matrix, so the next step will be:  \n",
    "1. sort eigen pairs in descending order\n",
    "2. construct the projection matrix (U) from the top k eigenpairs\n",
    "3. Use the projection matrix to transform the data into lower dimensional subspace"
   ]
  },
  {
   "cell_type": "code",
   "execution_count": 14,
   "metadata": {
    "collapsed": true
   },
   "outputs": [],
   "source": [
    "\n",
    "eigen_pairs = [(np.abs(eigen_vals[i]),eigen_vecs[:,i])\n",
    "for i in range(len(eigen_vals))]\n",
    "eigen_pairs.sort(reverse=True)"
   ]
  },
  {
   "cell_type": "code",
   "execution_count": 15,
   "metadata": {
    "scrolled": true
   },
   "outputs": [
    {
     "name": "stdout",
     "output_type": "stream",
     "text": [
      "Matrix U: \n",
      " [[ 0.14669811  0.50417079]\n",
      " [-0.24224554  0.24216889]\n",
      " [-0.02993442  0.28698484]\n",
      " [-0.25519002 -0.06468718]\n",
      " [ 0.12079772  0.22995385]\n",
      " [ 0.38934455  0.09363991]\n",
      " [ 0.42326486  0.01088622]\n",
      " [-0.30634956  0.01870216]\n",
      " [ 0.30572219  0.03040352]\n",
      " [-0.09869191  0.54527081]\n",
      " [ 0.30032535 -0.27924322]\n",
      " [ 0.36821154 -0.174365  ]\n",
      " [ 0.29259713  0.36315461]]\n"
     ]
    }
   ],
   "source": [
    "#Collect the eigenvectors that captured 60% of the variance in the dataset\n",
    "# in this case arbitraliy choose k=2 but irl choose k based on learning curve + evaluation metric \n",
    "u= np.hstack((eigen_pairs[0][1][:, np.newaxis], eigen_pairs[1][1][:,np.newaxis]))\n",
    "print('Matrix U: \\n',u)\n"
   ]
  },
  {
   "cell_type": "code",
   "execution_count": 16,
   "metadata": {},
   "outputs": [
    {
     "data": {
      "text/plain": [
       "array([ 2.59891628,  0.00484089])"
      ]
     },
     "execution_count": 16,
     "metadata": {},
     "output_type": "execute_result"
    }
   ],
   "source": [
    "#transform an instance x (1x13 row vector) with 13 features on to the PCA subspace obtaining z, a now 2-dim sample vector  \n",
    "# z now has 2 featurs\n",
    "#z =  ux \n",
    "X_train_std[0].dot(u)\n"
   ]
  },
  {
   "cell_type": "code",
   "execution_count": 17,
   "metadata": {
    "collapsed": true
   },
   "outputs": [],
   "source": [
    "X_train_pca = X_train_std.dot(u)"
   ]
  },
  {
   "cell_type": "code",
   "execution_count": 18,
   "metadata": {},
   "outputs": [
    {
     "data": {
      "image/png": "[encoded data removed]",
      "text/plain": [
       "<matplotlib.figure.Figure at 0xc363cf8>"
      ]
     },
     "metadata": {},
     "output_type": "display_data"
    }
   ],
   "source": [
    "#visualise the now Transformed Wine training set now stored as 124x2 matrix\n",
    "colors =['r','b','g']\n",
    "markers = ['s','x','o']\n",
    "for l, c, m in zip(np.unique(y_train), colors, markers):\n",
    "    plt.scatter(X_train_pca[y_train==1, 0],\n",
    "               X_train_pca[y_train==1,1],\n",
    "               c=c, label=l, marker=m)\n",
    "    \n",
    "plt.xlabel('PC 1')\n",
    "plt.ylabel('PC 2')\n",
    "plt.legend(loc = 'lower left')\n",
    "plt.show()"
   ]
  },
  {
   "cell_type": "markdown",
   "metadata": {},
   "source": [
    "<b> PCA in Scikit</b>   \n",
    "The code below will classify the transformed Wine dataset using logistic regression and visualise the decision regions via plot decision region function."
   ]
  },
  {
   "cell_type": "code",
   "execution_count": 19,
   "metadata": {
    "collapsed": true
   },
   "outputs": [],
   "source": [
    "from matplotlib.colors import ListedColormap\n"
   ]
  },
  {
   "cell_type": "code",
   "execution_count": 20,
   "metadata": {
    "collapsed": true
   },
   "outputs": [],
   "source": [
    "def plot_decision_regions(X,y,classifier, resolution=0.02):\n",
    "    \n",
    "    #setup marker generator and color map\n",
    "    markers = ('s', 'x', 'o', '^', 'v')\n",
    "    colors = ('red','blue', 'green', 'gray', 'cyan')\n",
    "    cmap = ListedColormap(colors[:len(np.unique(y))]) #each unique label will have its own color\n",
    "    \n",
    "    #plot the decision surface\n",
    "    x1_min, x1_max = X[:,0].min() -1, X[:,0].max() + 1  #min and max values for each feature , -1 and +1 to extend range\n",
    "    x2_min, x2_max = X[:,1].min() -1, X[:,1].max() + 1\n",
    "    xx1, xx2 = np.meshgrid(np.arange(x1_min, x1_max, resolution),\n",
    "                np.arange(x2_min, x2_max, resolution))     #meshgrid creates a grid using the feacture vector pairs\n",
    "    Z = classifier.predict(np.array([xx1.ravel(), xx2.ravel()]).T) #.ravel() unrolls a matrix into  1-D array or vector, .T means transpose\n",
    "    Z = Z.reshape(xx1.shape)  #Z has dimensions of xx1\n",
    "    plt.contourf(xx1, xx2, Z, alpha=0.4, cmap=cmap)  #contourf fills region for each label y, classier stores predictions in Z \n",
    "    plt.xlim(xx1.min(), xx1.max())\n",
    "    plt.ylim(xx2.min(), xx2.max())\n",
    "    \n",
    "    #plot class samples\n",
    "    for idx,cl in enumerate(np.unique(y)):\n",
    "        plt.scatter(x=X[y==cl,0], y=X[y==cl,1],\n",
    "                   alpha=0.8, c=cmap(idx),\n",
    "                   marker=markers[idx], label=cl)\n",
    "        \n",
    "    "
   ]
  },
  {
   "cell_type": "code",
   "execution_count": 21,
   "metadata": {
    "collapsed": true
   },
   "outputs": [],
   "source": [
    "from sklearn.linear_model import LogisticRegression\n",
    "from sklearn.decomposition import PCA"
   ]
  },
  {
   "cell_type": "code",
   "execution_count": 22,
   "metadata": {
    "collapsed": true
   },
   "outputs": [],
   "source": [
    "pca = PCA(n_components=2)\n",
    "lr= LogisticRegression()\n"
   ]
  },
  {
   "cell_type": "code",
   "execution_count": 23,
   "metadata": {},
   "outputs": [
    {
     "data": {
      "text/plain": [
       "LogisticRegression(C=1.0, class_weight=None, dual=False, fit_intercept=True,\n",
       "          intercept_scaling=1, max_iter=100, multi_class='ovr', n_jobs=1,\n",
       "          penalty='l2', random_state=None, solver='liblinear', tol=0.0001,\n",
       "          verbose=0, warm_start=False)"
      ]
     },
     "execution_count": 23,
     "metadata": {},
     "output_type": "execute_result"
    }
   ],
   "source": [
    "X_train_pca = pca.fit_transform(X_train_std)\n",
    "X_test_pca = pca.fit_transform(X_test_std)\n",
    "lr.fit(X_train_pca, y_train)"
   ]
  },
  {
   "cell_type": "code",
   "execution_count": 24,
   "metadata": {},
   "outputs": [
    {
     "data": {
      "image/png": "[encoded data removed]",
      "text/plain": [
       "<matplotlib.figure.Figure at 0xc73d048>"
      ]
     },
     "metadata": {},
     "output_type": "display_data"
    }
   ],
   "source": [
    "plot_decision_regions(X_train_pca, y_train, classifier=lr)\n",
    "plt.xlabel('PC1')\n",
    "plt.ylabel('PC2')\n",
    "plt.legend(loc='lower left')\n",
    "plt.show()"
   ]
  },
  {
   "cell_type": "markdown",
   "metadata": {},
   "source": [
    "The above plot shows the decision regions for the training model reduced to 2 principal component axes.\n",
    "Plot the decision region of the test set to see how well it did on class separation "
   ]
  },
  {
   "cell_type": "code",
   "execution_count": 25,
   "metadata": {},
   "outputs": [
    {
     "data": {
      "image/png": "[encoded data removed]",
      "text/plain": [
       "<matplotlib.figure.Figure at 0xc6d82b0>"
      ]
     },
     "metadata": {},
     "output_type": "display_data"
    }
   ],
   "source": [
    "plot_decision_regions(X_test_pca, y_test,classifier=lr)\n",
    "plt.xlabel('PC1')\n",
    "plt.ylabel('PC2')\n",
    "plt.legend(loc='lower left')\n",
    "plt.show()"
   ]
  },
  {
   "cell_type": "markdown",
   "metadata": {},
   "source": [
    "# Linear Discriminant Analysis   \n",
    "\n",
    "<b> Linear Discriminat Analysis</b> is a supervised algorithm that can be used  for feature extraction in order to reduce high dimensional data and overfitting in non-regularised models.\n",
    "LDA aims to find a feature subspace that optimises class separatbility. Assumes that the data is normally distributed so be sure to explore Gaussian-ness of features (see hard notebook for more).  \n",
    "<b> LDA Steps</b>\n",
    "1. Standardise the n dimensional dataset (I personally would check before this if all n features are Gaussian)\n",
    "2. For each class, compute the n-dimensional mean vector\n",
    "3. Construct the between-class scatter matrix <i>S<sub>b</sub> </i> and within class scatter matrix <i> S<sub>w</sub></i>\n",
    "4. compute the <b> eigenvectors </b> and <b> eigenvalues </b> of the matrix <b> S<sup>-1</sup><sub>w</sub> S<sub>b</sub></b>.\n",
    "5. Sort the k largest eigenvalues to construct the n x k projection matrix, <i>U</i>, whose eigenvectors are the columns of this matrix\n",
    "6. compute feature subspace Z = UX\n",
    "\n",
    "\n",
    "<b>StatQuest on LDA</b>   \n",
    "PCA reduces dimension based on  level of variation.  \n",
    "LDA uses the class labels to reduce dimension based on maximising the separability of the the known categories. LDA creates a new axis that projects the data in way to maximum separation of the classes. How?  \n",
    "  \n",
    "  Creates the new axis based on the optimisation between these criteria\n",
    "1. maximise the distance between the means of the classes on the new axis. for more than 2 classes, the maximum distance by each mean from a common centroid \n",
    "2. minimise the scatter or variation or spread, s,  within each class\n",
    "(u1 -u2 )/ s<sub>1</sub><sup>2</sup>+s<sub>2</sub><sup>2</sup>\n",
    "\n",
    "\n"
   ]
  },
  {
   "cell_type": "code",
   "execution_count": 26,
   "metadata": {},
   "outputs": [
    {
     "name": "stdout",
     "output_type": "stream",
     "text": [
      "MV 1[ 0.9259 -0.3091  0.2592 -0.7989  0.3039  0.9608  1.0515 -0.6306  0.5354\n",
      "  0.2209  0.4855  0.798   1.2017] \n",
      "\n",
      "MV 2[-0.8727 -0.3854 -0.4437  0.2481 -0.2409 -0.1059  0.0187 -0.0164  0.1095\n",
      " -0.8796  0.4392  0.2776 -0.7016] \n",
      "\n",
      "MV 3[ 0.1637  0.8929  0.3249  0.5658 -0.01   -0.9499 -1.228   0.7436 -0.7652\n",
      "  0.979  -1.1698 -1.3007 -0.3912] \n",
      "\n"
     ]
    }
   ],
   "source": [
    "#Compute  the mean for each feature for a given class\n",
    "np.set_printoptions(precision=4)\n",
    "mean_vecs =[]  #mean vector for each class is nx1 \n",
    "for label in range(1,4):  # there are 3 classes of wine with values 1 2 3\n",
    "    mean_vecs.append(np.mean(X_train_std[y_train==label], axis=0))  #axis =0 means row-wise?\n",
    "    print('MV {}{} \\n'.format(label, mean_vecs[label-1]))\n",
    "    \n"
   ]
  },
  {
   "cell_type": "markdown",
   "metadata": {},
   "source": [
    "Use the mean vectors to compute the within-class scatter matrix S<sub>w</sub>, which is the sum of the individual scatter matrices S<sub>i</sub> for a given class <i>i</i>:  \n",
    " <b> S<sub>i</sub> = Sum<sub>i:c, xED<sub>i</sub></sub> (x-u<sub>i</sub>)(x-u<sub>i</sub>)<sup>T</sup></b>  \n",
    "   (for all examples x<sup>i</sup> a member of class i)    \n",
    " <b> S<sub>W</sub> = Sum<sub> i:c</sub> S<sub>i</sub> \n"
   ]
  },
  {
   "cell_type": "code",
   "execution_count": 27,
   "metadata": {
    "collapsed": true
   },
   "outputs": [],
   "source": [
    "n =13 # 13 featuress\n",
    "S_W = np.zeros((n,n))\n",
    "for label,mv in zip(range(1,4),mean_vecs):        #Scatter matrix is (y1- avg(x[y==1]))(y1- avg(x[y==1]))\n",
    "    class_scatter = np.zeros((n,n))                #nxn matrix\n",
    "    for row in X[y==label]:\n",
    "        row,mv = row.reshape(n,1),mv.reshape(n,1)   #13x1 , 13x1 \n",
    "        class_scatter += (row-mv).dot((row-mv).T)   #(x-u)(x-u)'\n",
    "        S_W += class_scatter"
   ]
  },
  {
   "cell_type": "code",
   "execution_count": 28,
   "metadata": {},
   "outputs": [
    {
     "name": "stdout",
     "output_type": "stream",
     "text": [
      "Within-class scatter matrix: 13x13\n"
     ]
    }
   ],
   "source": [
    "print('Within-class scatter matrix: {}x{}'.format(S_W.shape[0], S_W.shape[1]))"
   ]
  },
  {
   "cell_type": "markdown",
   "metadata": {},
   "source": [
    "#check the assumption that class labels are uniformly distibuted\n",
    "print('Class label distribution: {} '.format(np.bincount(y_train[1:])))\n",
    "\n",
    "#np.bincount: Count number of occurrences of each value in array of non-negative ints."
   ]
  },
  {
   "cell_type": "code",
   "execution_count": 29,
   "metadata": {},
   "outputs": [
    {
     "name": "stdout",
     "output_type": "stream",
     "text": [
      "Class Distribution: \n",
      " [[ 1 40]\n",
      " [ 2 49]\n",
      " [ 3 35]]\n"
     ]
    }
   ],
   "source": [
    "#check the assumption that class labels are uniformly distibuted\n",
    "label,counts = np.unique(y_train, return_counts=True)\n",
    "print ('Class Distribution: \\n', np.asarray((label,counts)).T)\n"
   ]
  },
  {
   "cell_type": "markdown",
   "metadata": {},
   "source": [
    "The class values are clearly not uniformly distributed so we have to normalise the scatter values by dividing by the sample size, N, i.e. we end up computing the covariance matrix, the normalised version of the scatter matrix\n",
    "  Cov_matrix = 1/N * S<sub>i</sub> = 1/N Sum<sub>i:mc</sub>(x- u<sub>i</sub>)(x - u<sub>i</sub>)<sup>T</sup>"
   ]
  },
  {
   "cell_type": "code",
   "execution_count": 30,
   "metadata": {},
   "outputs": [
    {
     "data": {
      "text/plain": [
       "13"
      ]
     },
     "execution_count": 30,
     "metadata": {},
     "output_type": "execute_result"
    }
   ],
   "source": [
    "np.size(X_train_std,1)"
   ]
  },
  {
   "cell_type": "code",
   "execution_count": 31,
   "metadata": {
    "collapsed": true
   },
   "outputs": [],
   "source": [
    "n =np.size(X_train_std,1) \n",
    "S_W = np.zeros((n,n))\n",
    "for label,mv in zip(range(1,4), mean_vecs):  #zip 3x13 matrix, 3 classes x 13 feature means\n",
    "    class_scatter = np.cov(X_train_std[y_train==label].T)\n",
    "    S_W += class_scatter"
   ]
  },
  {
   "cell_type": "code",
   "execution_count": 32,
   "metadata": {},
   "outputs": [
    {
     "name": "stdout",
     "output_type": "stream",
     "text": [
      "Scaled within-class scatter matrix: 13x13\n"
     ]
    }
   ],
   "source": [
    "print('Scaled within-class scatter matrix: {}x{}'.format(S_W.shape[0], S_W.shape[1]))"
   ]
  },
  {
   "cell_type": "markdown",
   "metadata": {},
   "source": [
    "Next Step is to compute the between class scatter matrix, <b> S<sub> B</sub> = Sum<sub>i:c</sub> N<sub>i</sub> (u<sub>i</sub>-u)(m<sub>i</sub>-u)<sup>T</sup> </b>, where u is dataset mean N<sub>i</sub> is number of samples in each class\n",
    "  "
   ]
  },
  {
   "cell_type": "code",
   "execution_count": 33,
   "metadata": {
    "collapsed": true
   },
   "outputs": [],
   "source": [
    "mean_overall = np.mean(X_train_std, axis=0)\n",
    "S_B = np.zeros((n,n))\n",
    "for i,mean_vec in enumerate(mean_vecs):\n",
    "    N = X[y==i+1,:].shape[0]   #number of samples for a class i\n",
    "    mean_overall = mean_overall.reshape(n,1)    \n",
    "    S_B += N*(mean_vec - mean_overall).dot((mean_vec-mean_overall).T)"
   ]
  },
  {
   "cell_type": "code",
   "execution_count": 34,
   "metadata": {},
   "outputs": [
    {
     "name": "stdout",
     "output_type": "stream",
     "text": [
      "Between-class scatter matrix: 13x13\n"
     ]
    }
   ],
   "source": [
    "print('Between-class scatter matrix: {}x{}'.format(S_B.shape[0], S_B.shape[1]))"
   ]
  },
  {
   "cell_type": "markdown",
   "metadata": {},
   "source": [
    "Select the linear discriminsants for new feature subspace by solving for the eigenvalues <b> S<sup>-1</sup><sub>w</sub>* S<sub>B</sub> </b>"
   ]
  },
  {
   "cell_type": "code",
   "execution_count": 35,
   "metadata": {},
   "outputs": [
    {
     "name": "stdout",
     "output_type": "stream",
     "text": [
      "Eigenvalues in decreasing order: \n",
      "\n"
     ]
    }
   ],
   "source": [
    "eigen_vals,eigen_vecs = np.linalg.eig(np.linalg.inv(S_W).dot(S_B))\n",
    "#sort eigen pairs in descending order\n",
    "eigen_pairs = [(np.abs(eigen_vals[i]), eigen_vecs[:,i]) for i in range(len(eigen_vals))]\n",
    "eigen_pairs = sorted(eigen_pairs, key=lambda k:k[0], reverse=True) #sort by eigenvalues \n",
    "print('Eigenvalues in decreasing order: \\n')\n"
   ]
  },
  {
   "cell_type": "code",
   "execution_count": 36,
   "metadata": {},
   "outputs": [
    {
     "data": {
      "text/html": [
       "<div>\n",
       "<style>\n",
       "    .dataframe thead tr:only-child th {\n",
       "        text-align: right;\n",
       "    }\n",
       "\n",
       "    .dataframe thead th {\n",
       "        text-align: left;\n",
       "    }\n",
       "\n",
       "    .dataframe tbody tr th {\n",
       "        vertical-align: top;\n",
       "    }\n",
       "</style>\n",
       "<table border=\"1\" class=\"dataframe\">\n",
       "  <thead>\n",
       "    <tr style=\"text-align: right;\">\n",
       "      <th></th>\n",
       "      <th>0</th>\n",
       "      <th>1</th>\n",
       "    </tr>\n",
       "  </thead>\n",
       "  <tbody>\n",
       "    <tr>\n",
       "      <th>0</th>\n",
       "      <td>8.292299e+03</td>\n",
       "      <td>[(0.071227738467+0j), (0.150394914756+0j), (-0...</td>\n",
       "    </tr>\n",
       "    <tr>\n",
       "      <th>1</th>\n",
       "      <td>1.063934e-12</td>\n",
       "      <td>[(0.163089195108+0j), (-0.705990134723+0j), (0...</td>\n",
       "    </tr>\n",
       "    <tr>\n",
       "      <th>2</th>\n",
       "      <td>8.628144e-13</td>\n",
       "      <td>[(-0.00975768137756+0.0440827278454j), (0.5561...</td>\n",
       "    </tr>\n",
       "    <tr>\n",
       "      <th>3</th>\n",
       "      <td>8.628144e-13</td>\n",
       "      <td>[(-0.00975768137756-0.0440827278454j), (0.5561...</td>\n",
       "    </tr>\n",
       "    <tr>\n",
       "      <th>4</th>\n",
       "      <td>5.914474e-13</td>\n",
       "      <td>[(0.617106487841+0.021767356491j), (0.14221811...</td>\n",
       "    </tr>\n",
       "    <tr>\n",
       "      <th>5</th>\n",
       "      <td>5.914474e-13</td>\n",
       "      <td>[(0.617106487841-0.021767356491j), (0.14221811...</td>\n",
       "    </tr>\n",
       "    <tr>\n",
       "      <th>6</th>\n",
       "      <td>2.557599e-13</td>\n",
       "      <td>[(-0.146440924357+0.10461187023j), (0.18574996...</td>\n",
       "    </tr>\n",
       "    <tr>\n",
       "      <th>7</th>\n",
       "      <td>2.557599e-13</td>\n",
       "      <td>[(-0.146440924357-0.10461187023j), (0.18574996...</td>\n",
       "    </tr>\n",
       "    <tr>\n",
       "      <th>8</th>\n",
       "      <td>2.450689e-13</td>\n",
       "      <td>[(-0.76272128712+0j), (0.192073241542-0.062705...</td>\n",
       "    </tr>\n",
       "    <tr>\n",
       "      <th>9</th>\n",
       "      <td>2.450689e-13</td>\n",
       "      <td>[(-0.76272128712-0j), (0.192073241542+0.062705...</td>\n",
       "    </tr>\n",
       "    <tr>\n",
       "      <th>10</th>\n",
       "      <td>2.029615e-13</td>\n",
       "      <td>[(0.885190173842+0j), (-0.052192959989+0j), (0...</td>\n",
       "    </tr>\n",
       "    <tr>\n",
       "      <th>11</th>\n",
       "      <td>1.865172e-13</td>\n",
       "      <td>[(-0.888692795924+0j), (0.0531264006435+0j), (...</td>\n",
       "    </tr>\n",
       "    <tr>\n",
       "      <th>12</th>\n",
       "      <td>7.457370e-14</td>\n",
       "      <td>[(-0.0186874766577+0j), (-0.0226724332176+0j),...</td>\n",
       "    </tr>\n",
       "  </tbody>\n",
       "</table>\n",
       "</div>"
      ],
      "text/plain": [
       "               0                                                  1\n",
       "0   8.292299e+03  [(0.071227738467+0j), (0.150394914756+0j), (-0...\n",
       "1   1.063934e-12  [(0.163089195108+0j), (-0.705990134723+0j), (0...\n",
       "2   8.628144e-13  [(-0.00975768137756+0.0440827278454j), (0.5561...\n",
       "3   8.628144e-13  [(-0.00975768137756-0.0440827278454j), (0.5561...\n",
       "4   5.914474e-13  [(0.617106487841+0.021767356491j), (0.14221811...\n",
       "5   5.914474e-13  [(0.617106487841-0.021767356491j), (0.14221811...\n",
       "6   2.557599e-13  [(-0.146440924357+0.10461187023j), (0.18574996...\n",
       "7   2.557599e-13  [(-0.146440924357-0.10461187023j), (0.18574996...\n",
       "8   2.450689e-13  [(-0.76272128712+0j), (0.192073241542-0.062705...\n",
       "9   2.450689e-13  [(-0.76272128712-0j), (0.192073241542+0.062705...\n",
       "10  2.029615e-13  [(0.885190173842+0j), (-0.052192959989+0j), (0...\n",
       "11  1.865172e-13  [(-0.888692795924+0j), (0.0531264006435+0j), (...\n",
       "12  7.457370e-14  [(-0.0186874766577+0j), (-0.0226724332176+0j),..."
      ]
     },
     "execution_count": 36,
     "metadata": {},
     "output_type": "execute_result"
    }
   ],
   "source": [
    "pd.DataFrame(eigen_pairs)"
   ]
  },
  {
   "cell_type": "code",
   "execution_count": 37,
   "metadata": {},
   "outputs": [
    {
     "name": "stdout",
     "output_type": "stream",
     "text": [
      "8292.29886477\n",
      "1.06393404074e-12\n",
      "8.62814364844e-13\n",
      "8.62814364844e-13\n",
      "5.91447394302e-13\n",
      "5.91447394302e-13\n",
      "2.55759858397e-13\n",
      "2.55759858397e-13\n",
      "2.45068861312e-13\n",
      "2.45068861312e-13\n",
      "2.02961494345e-13\n",
      "1.8651719628e-13\n",
      "7.45736983254e-14\n"
     ]
    }
   ],
   "source": [
    "for eigen_val in eigen_pairs:\n",
    "    print(eigen_val[0])"
   ]
  },
  {
   "cell_type": "markdown",
   "metadata": {},
   "source": [
    "Not that values raised to 10<sup>-10</sup> and higher are basically zero. To measure how much class discriminatory information is captured by the Linear discriminants LDs(eigenvectors), plot the LDs by decreasing order"
   ]
  },
  {
   "cell_type": "code",
   "execution_count": 38,
   "metadata": {},
   "outputs": [
    {
     "data": {
      "image/png": "[encoded data removed]",
      "text/plain": [
       "<matplotlib.figure.Figure at 0xc4a5b00>"
      ]
     },
     "metadata": {},
     "output_type": "display_data"
    }
   ],
   "source": [
    "tot = sum(eigen_vals.real)\n",
    "discr =[(i/tot) for i in sorted(eigen_vals.real, reverse=True)]\n",
    "cum_discr = np.cumsum(discr)\n",
    "plt.bar(range(1,14), discr, alpha=0.5, align = 'center', label = 'individual discriminability')\n",
    "plt.step(range(1,14), cum_discr, where = 'mid', label = 'cumulative discriminability')\n",
    "plt.ylabel('Discriminability ratio')\n",
    "plt.xlabel('Linear discriminants')\n",
    "plt.ylim([-0.1, 1.1])\n",
    "plt.legend(loc= 'best')\n",
    "plt.show()"
   ]
  },
  {
   "cell_type": "markdown",
   "metadata": {},
   "source": [
    "Well well the first linear discriminant captures or explained 100% of the the maximum separation between the classes.. I am skeptical though\n",
    "<b> Feature Transformation </b>   \n",
    "Now that the covariance matrix has been decomposed into its eigen_pairs, and sorted  the eigenpairs by descending order of the eigenvaluesthe next steps are:  \n",
    "2. construct the project matrix U<sub>L</sub>\n",
    "3. Use the projection matrix to project the feature space unto a new lower dimension feature space"
   ]
  },
  {
   "cell_type": "code",
   "execution_count": 39,
   "metadata": {},
   "outputs": [
    {
     "name": "stdout",
     "output_type": "stream",
     "text": [
      "Matrix U: \n",
      " [[ 0.0712  0.1631]\n",
      " [ 0.1504 -0.706 ]\n",
      " [-0.0709  0.1527]\n",
      " [ 0.0466 -0.0583]\n",
      " [ 0.151  -0.1808]\n",
      " [-0.2528 -0.2591]\n",
      " [ 0.6676  0.254 ]\n",
      " [ 0.2561 -0.2163]\n",
      " [-0.1254 -0.0087]\n",
      " [ 0.166   0.3283]\n",
      " [ 0.1949  0.3302]\n",
      " [ 0.4285  0.1064]\n",
      " [ 0.3198  0.0945]]\n"
     ]
    }
   ],
   "source": [
    "#stack the most discriminative eigenvector columns to create projection matrix,in this case only first LD explained 100% \n",
    "u = np.concatenate((eigen_pairs[0][1][:, np.newaxis].real, eigen_pairs[1][1][:, np.newaxis].real), axis=1)\n",
    "#u = eigen_pairs[0][1][:, np.newaxis].real\n",
    "print('Matrix U: \\n', u)"
   ]
  },
  {
   "cell_type": "code",
   "execution_count": 40,
   "metadata": {},
   "outputs": [
    {
     "data": {
      "image/png": "[encoded data removed]",
      "text/plain": [
       "<matplotlib.figure.Figure at 0xc788128>"
      ]
     },
     "metadata": {},
     "output_type": "display_data"
    }
   ],
   "source": [
    "#projection of samples to new feature space\n",
    "X_train_lda = X_train_std.dot(u)\n",
    "colors = ['r', 'b', 'g']\n",
    "markers = ['s', 'x', 'o']\n",
    "for l,c,m in zip(np.unique(y_train), colors, markers):\n",
    "    plt.scatter(X_train_lda[y_train==1,0],\n",
    "              X_train_lda[y_train==1,1],\n",
    "               c=c, label=l, marker=m)\n",
    "plt.xlabel('LD1')\n",
    "plt.ylabel ('LD2')\n",
    "plt.legend(loc='upper right')\n",
    "plt.show()"
   ]
  },
  {
   "cell_type": "markdown",
   "metadata": {},
   "source": [
    "<b> LDA using scikit</b> "
   ]
  },
  {
   "cell_type": "code",
   "execution_count": 41,
   "metadata": {
    "collapsed": true
   },
   "outputs": [],
   "source": [
    "#from sklearn.lda import LDA is deprecated\n",
    "from sklearn.discriminant_analysis import LinearDiscriminantAnalysis as LDA\n",
    "lda = LDA(n_components =2)\n",
    "X_train_lda = lda.fit_transform(X_train_std, y_train)"
   ]
  },
  {
   "cell_type": "code",
   "execution_count": 42,
   "metadata": {},
   "outputs": [
    {
     "data": {
      "image/png": "[encoded data removed]",
      "text/plain": [
       "<matplotlib.figure.Figure at 0xc8150f0>"
      ]
     },
     "metadata": {},
     "output_type": "display_data"
    }
   ],
   "source": [
    "#classify the lower dimensional dataspace with log regression\n",
    "lr = LogisticRegression()\n",
    "lr = lr.fit(X_train_lda, y_train) \n",
    "plot_decision_regions(X_train_lda, y_train, classifier=lr)\n",
    "plt.xlabel('LD1')\n",
    "plt.ylabel('LD2')\n",
    "plt.legend(loc='best')\n",
    "plt.show()"
   ]
  },
  {
   "cell_type": "markdown",
   "metadata": {},
   "source": [
    "<h3> Kernel PCA for Non-Linear Mapping</h3>  \n",
    "Many classifiers assume that the data is linearly separable or that lack of linearity is due to noise.  \n",
    "Recall that kernels aka similarity functions that tackle non-linear problems by projecting the dataset onto a higher dimesionality (d>>n) that is linearly separable (SVM does this).   \n",
    "<b> Rationale</b>\n",
    "Use kernel function to project the non-linear data unto a higher dimensionality that is more linearly separable\n",
    "then use PCA to project the high-dimension transformation unto a lower dimensionality space.\n",
    "\n",
    "as usual will do the long implementation for foundational learning then the scikit version \n"
   ]
  },
  {
   "cell_type": "markdown",
   "metadata": {},
   "source": [
    "<b> More on Kernel Trick and PCA</b>   \n",
    "Kernel function is a way of computing the dot product some two vectors as a measure of similarity (mathematical framework is in my hard notebook). The kernel trick when used with PCA would've already projected the features unto a lower dimensional principal component axes, so that we don't have to explicitly compute the eigenvectors and thus the projection matrix, U, as was the case with standard PCA. \n",
    "    Kernel matrix is as follows <b> K = @(X)*@(X)<sup>T</sup> </b>  \n",
    "1. Polynomial kernels\n",
    "    k(x<sub>j</sub>, x<sub>k</sub>) = x<sub>j</sub><sup>T</sup> x<sub>k</sub> + E)<sup>p</sup>,where E is the threshold and p is the degree of polynomial\n",
    "    \n",
    "2. Hyprbolic Tangent(Sigmoid) Kernel  \n",
    "     k(x<sub>j</sub>, x<sub>k</sub>) = tanh(n x<sub>j</sub><sup>T</sup> x<sub>k</sub> + E)\n",
    "3. Radial Basis Function aka Gaussian\n",
    "    k(x<sub>j</sub>, x<sub>k</sub>) = exp(- (|| x<sub>j</sub> -x<sub>k</sub>)||<sup>2</sup> )/ 2sigma<sup>2</sup>)\n",
    "    \n",
    " \n",
    "<b> RBF Kernel PCA Implementation steps</b>\n",
    "1. Compute Similarity matrix k by calculating exp(- (|| x<sub>j</sub> -x<sub>k</sub>)||<sup>2</sup> )/ 2sigma<sup>2</sup>) for each pair of features\n",
    "2. Center the kernel matrix K using the following equations\n",
    "K' = K-l<sub>m</sub>K-l<sub>m</sub> + l<sub>m</sub>K*l<sub>m</sub>, where lm is a mxm dimensional matrix where all elements = 1/m\n",
    "3. Collect the top k eigenvectors of the centred kernel matrix based on the corresponding eigen values. Note that in this case the eigenvectros arent the principal component axis but instead the samples projected onto thos axes"
   ]
  },
  {
   "cell_type": "code",
   "execution_count": 58,
   "metadata": {},
   "outputs": [],
   "source": [
    "#Using an RBF Kernel PCA\n",
    "from scipy.spatial.distance import pdist, squareform\n",
    "from scipy import exp\n",
    "from scipy.linalg import eigh\n",
    "\n",
    "def rbf_kernel_pca(X, gamma, n_components):\n",
    "    \"\"\" \n",
    "    RBF kernel PCA Implementation\n",
    "    Parameters\n",
    "    -----------\n",
    "    X : {Numpy ndarray}, shape = [m_samples by n_features]\n",
    "    \n",
    "    gamma: float, Tuning parameter of the RBF Kernel == 1/2sqr(sigma)\n",
    "    \n",
    "    n_components: int, Number of principal components\n",
    "    \n",
    "    Returns \n",
    "    --------\n",
    "    X_pca : {Numpy ndarray}, shape = {m_samples, k_features}, this is the projected dataset\n",
    "    \n",
    "    \"\"\"\n",
    "    #Calculate the pairwise squared Euclidean distances in the mxn dimensional dataset (ref my previous matlab code)\n",
    "    sq_dists =pdist(X, 'sqeuclidean')  #had to do this shit manually in matlab tho\n",
    "    #convert the pairwise distances into a square matrix\n",
    "    mat_sq_dist = squareform(sq_dists)\n",
    "    #compute the symmetric kernel matrix\n",
    "    K = exp(-gamma*mat_sq_dist)\n",
    "    #Center the kernel matrix : ref to hard notebook about centering matrix\n",
    "    N = K.shape[0]  #N is total samples\n",
    "    one_n = np.ones((N,N))/N\n",
    "    K = K-one_n.dot(K) - K.dot(one_n) + one_n.dot(K).dot(one_n)\n",
    "    \n",
    "    #Obtaining eigenpairs from the centred kernel matrix\n",
    "    #numpy.eigh returns them in the sorted order\n",
    "    eigvals, eigvecs = eigh(K)\n",
    "    \n",
    "    #Collect the top k eigenvectors (projected samples)\n",
    "    X_pc = np.column_stack((eigvecs[:,-i] for i in range(1, n_components+1))) #stacks them column-wise like hstack or concatenate(axis=1)\n",
    "    \n",
    "    return X_pc\n",
    "    \n",
    "\n"
   ]
  },
  {
   "cell_type": "code",
   "execution_count": 46,
   "metadata": {},
   "outputs": [
    {
     "data": {
      "image/png": "[encoded data removed]",
      "text/plain": [
       "<matplotlib.figure.Figure at 0xce8cbe0>"
      ]
     },
     "metadata": {},
     "output_type": "display_data"
    }
   ],
   "source": [
    "#Create a 2-d dataset of 100 sample points representing two half-moon shapes\n",
    "from sklearn.datasets import make_moons\n",
    "X,y = make_moons(n_samples =100, random_state=123)\n",
    "plt.scatter(X[y==0,0], X[y==0,1], color ='red', marker ='^', alpha=0.5 )\n",
    "plt.scatter(X[y==1,0], X[y==1,1], color = 'blue', marker='o', alpha=0.5)\n",
    "plt.show()"
   ]
  },
  {
   "cell_type": "markdown",
   "metadata": {},
   "source": [
    "clearly these half-mone shapes are not linearly separable so I'll use kernel PCA to transform this dataset suitable for a linear classifier. But first let's see how standard PCA would project this data"
   ]
  },
  {
   "cell_type": "code",
   "execution_count": 56,
   "metadata": {},
   "outputs": [
    {
     "data": {
      "image/png": "[encoded data removed]",
      "text/plain": [
       "<matplotlib.figure.Figure at 0xcfa9978>"
      ]
     },
     "metadata": {},
     "output_type": "display_data"
    },
    {
     "data": {
      "image/png": "[encoded data removed]",
      "text/plain": [
       "<matplotlib.figure.Figure at 0xc8aaf60>"
      ]
     },
     "metadata": {},
     "output_type": "display_data"
    },
    {
     "data": {
      "image/png": "[encoded data removed]",
      "text/plain": [
       "<matplotlib.figure.Figure at 0xc44c748>"
      ]
     },
     "metadata": {},
     "output_type": "display_data"
    },
    {
     "data": {
      "image/png": "[encoded data removed]",
      "text/plain": [
       "<matplotlib.figure.Figure at 0xcf5aac8>"
      ]
     },
     "metadata": {},
     "output_type": "display_data"
    }
   ],
   "source": [
    "from sklearn.decomposition import PCA\n",
    "scikit_pca = PCA(n_components =2)\n",
    "X_spca = scikit_pca.fit_transform(X)\n",
    "fig, ax = plt.subplots(nrows=1,ncols=2, figsize=(7,3))\n",
    "ax[0].scatter(X_spca[y==0,0],X_spca[y==0,1], color = 'red', marker='^', alpha=0.5 )\n",
    "ax[0].scatter(X_spca[y==1,0],X_spca[y==1,1], color = 'blue', marker='o', alpha=0.5 )\n",
    "ax[1].scatter(X_spca[y==0,0], np.zeros((50,1))+0.02, color = 'red', marker='^', alpha=0.5 )\n",
    "ax[1].scatter(X_spca[y==1,0], np.zeros((50,1))-0.02, color = 'blue', marker='o', alpha=0.5 )\n",
    "ax[0].set_xlabel('PC1')\n",
    "ax[0].set_ylabel('PC2')\n",
    "ax[1].set_ylim([-1,1])\n",
    "ax[1].set_yticks([])\n",
    "ax[1].set_xlabel('PC1')\n",
    "plt.show()"
   ]
  },
  {
   "cell_type": "code",
   "execution_count": 63,
   "metadata": {},
   "outputs": [],
   "source": [
    "#Now try RBF kernel\n",
    "from matplotlib.ticker import FormatStrFormatter\n",
    "X_kpca = rbf_kernel_pca(X,gamma=15, n_components=2)\n"
   ]
  },
  {
   "cell_type": "code",
   "execution_count": 64,
   "metadata": {},
   "outputs": [
    {
     "data": {
      "image/png": "[encoded data removed]",
      "text/plain": [
       "<matplotlib.figure.Figure at 0xc73d2b0>"
      ]
     },
     "metadata": {},
     "output_type": "display_data"
    }
   ],
   "source": [
    "fig, ax = plt.subplots(nrows=1,ncols=2, figsize=(7,3))\n",
    "ax[0].scatter(X_kpca[y==0,0],X_kpca[y==0,1], color = 'red', marker='^', alpha=0.5 )\n",
    "ax[0].scatter(X_kpca[y==1,0],X_kpca[y==1,1], color = 'blue', marker='o', alpha=0.5 )\n",
    "ax[1].scatter(X_kpca[y==0,0], np.zeros((50,1))+0.02, color = 'red', marker='^', alpha=0.5 )\n",
    "ax[1].scatter(X_kpca[y==1,0], np.zeros((50,1))-0.02, color = 'blue', marker='o', alpha=0.5 )\n",
    "ax[0].set_xlabel('PC1')\n",
    "ax[0].set_ylabel('PC2')\n",
    "ax[1].set_ylim([-1,1])\n",
    "ax[1].set_yticks([])\n",
    "ax[1].set_xlabel('PC1')\n",
    "\n",
    "ax[0].xaxis.set_major_formatter(FormatStrFormatter('%0.1f'))\n",
    "ax[1].xaxis.set_major_formatter(FormatStrFormatter('%0.1f'))\n",
    "\n",
    "plt.show()"
   ]
  },
  {
   "cell_type": "markdown",
   "metadata": {},
   "source": [
    "Now the dataset is linearly separable!"
   ]
  },
  {
   "cell_type": "code",
   "execution_count": 71,
   "metadata": {},
   "outputs": [
    {
     "data": {
      "image/png": "[encoded data removed]",
      "text/plain": [
       "<matplotlib.figure.Figure at 0xc7e66a0>"
      ]
     },
     "metadata": {},
     "output_type": "display_data"
    }
   ],
   "source": [
    "#Separating concentric circles\n",
    "from sklearn.datasets import make_circles\n",
    "X,y = make_circles(n_samples=1000, random_state=123, noise=0.1, factor=0.2)\n",
    "plt.scatter(X[y==0,0], X[y==0,1], color ='red', marker ='^', alpha=0.5 )   #ooohkay X[y==0,0] means All  values in col[0] with negative y values\n",
    "plt.scatter(X[y==1,0], X[y==1,1], color = 'blue', marker='o', alpha=0.5)\n",
    "plt.show()"
   ]
  },
  {
   "cell_type": "code",
   "execution_count": 73,
   "metadata": {},
   "outputs": [
    {
     "data": {
      "image/png": "[encoded data removed]",
      "text/plain": [
       "<matplotlib.figure.Figure at 0xd22c898>"
      ]
     },
     "metadata": {},
     "output_type": "display_data"
    },
    {
     "data": {
      "image/png": "[encoded data removed]",
      "text/plain": [
       "<matplotlib.figure.Figure at 0xc89a240>"
      ]
     },
     "metadata": {},
     "output_type": "display_data"
    }
   ],
   "source": [
    "from matplotlib.ticker import FormatStrFormatter\n",
    "X_kpca = rbf_kernel_pca(X,gamma=15, n_components=2)\n",
    "fig, ax = plt.subplots(nrows=1,ncols=2, figsize=(7,3))\n",
    "ax[0].scatter(X_kpca[y==0,0],X_kpca[y==0,1], color = 'red', marker='^', alpha=0.5 )\n",
    "ax[0].scatter(X_kpca[y==1,0],X_kpca[y==1,1], color = 'blue', marker='o', alpha=0.5 )\n",
    "ax[1].scatter(X_kpca[y==0,0], np.zeros((500,1))+0.02, color = 'red', marker='^', alpha=0.5 )\n",
    "ax[1].scatter(X_kpca[y==1,0], np.zeros((500,1))-0.02, color = 'blue', marker='o', alpha=0.5 )\n",
    "ax[0].set_xlabel('PC1')\n",
    "ax[0].set_ylabel('PC2')\n",
    "ax[1].set_ylim([-1,1])\n",
    "ax[1].set_yticks([])\n",
    "ax[1].set_xlabel('PC1')\n",
    "\n",
    "ax[0].xaxis.set_major_formatter(FormatStrFormatter('%0.1f'))\n",
    "ax[1].xaxis.set_major_formatter(FormatStrFormatter('%0.1f'))\n",
    "\n",
    "plt.show()"
   ]
  },
  {
   "cell_type": "code",
   "execution_count": null,
   "metadata": {
    "collapsed": true
   },
   "outputs": [],
   "source": []
  }
 ],
 "metadata": {
  "kernelspec": {
   "display_name": "Python 3",
   "language": "python",
   "name": "python3"
  },
  "language_info": {
   "codemirror_mode": {
    "name": "ipython",
    "version": 3
   },
   "file_extension": ".py",
   "mimetype": "text/x-python",
   "name": "python",
   "nbconvert_exporter": "python",
   "pygments_lexer": "ipython3",
   "version": "3.6.2"
  }
 },
 "nbformat": 4,
 "nbformat_minor": 2
}

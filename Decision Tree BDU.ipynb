{
 "cells": [
  {
   "cell_type": "markdown",
   "metadata": {},
   "source": [
    "<b> Decision Tree Workflow </b>\n",
    "I know it intuitively but let me try put in words. \n",
    "1. Start with the full training data (<i>root</i>)\n",
    "\n",
    "2. Apply classification rules/splitting points - conditions- to partition the data int subsets (internal node)  or classes. e.g. if verterbrae then divide further into mammals fish reptiles bird. \n",
    "\n",
    "3. Outcome should be a <b> pure partition </b> where all the data belong to the same class -  cant be divide any further\n",
    "4. Use statiscal methods for placing or odering node\n",
    "\n",
    "Convert continuous data to discrete categorical data \n",
    "\n",
    "<b> Attribute Selection </b>\n",
    "Which attributes form root and which are placed as internal nodes\n",
    "Criteria:\n",
    "<i> Information gain </i> \n",
    "-Measures the expected reduction in entropy due to sorting on an attribute.\n",
    "-High entropy is good\n",
    "-I learnt how to caculcate information gain from Ginni index (see physical notebook) but basically\n",
    "    1. Find system Ginni, G(Y) whihc is ginni of target records\n",
    "    2. find Ginni of each attribute, G(A1), G(A2), G(An)\n",
    "    3. Find GinniGain for attribute An = G(Y) - G(An)\n",
    "    4. Sort each attribute based on GinniGain. Attribute with hihgest ginni is root node\n",
    "    5. For internal nodes: recalculate the GinniGain as a subset of the parent node\n",
    "   "
   ]
  },
  {
   "cell_type": "markdown",
   "metadata": {},
   "source": []
  },
  {
   "cell_type": "code",
   "execution_count": 1,
   "metadata": {
    "collapsed": true
   },
   "outputs": [],
   "source": [
    "import numpy as np\n",
    "import pandas\n",
    "from sklearn.tree import DecisionTreeClassifier"
   ]
  },
  {
   "cell_type": "markdown",
   "metadata": {},
   "source": [
    "About dataset: dataset contains measurement/cranial dimensions of  egyptian skulls from five epochs\n"
   ]
  },
  {
   "cell_type": "code",
   "execution_count": 2,
   "metadata": {
    "collapsed": true
   },
   "outputs": [],
   "source": [
    "my_data=pandas.read_csv(\"https://vincentarelbundock.github.io/Rdatasets/csv/HSAUR/skulls.csv\", delimiter =\",\")"
   ]
  },
  {
   "cell_type": "code",
   "execution_count": 3,
   "metadata": {},
   "outputs": [
    {
     "data": {
      "text/html": [
       "<div>\n",
       "<table border=\"1\" class=\"dataframe\">\n",
       "  <thead>\n",
       "    <tr style=\"text-align: right;\">\n",
       "      <th></th>\n",
       "      <th>Unnamed: 0</th>\n",
       "      <th>epoch</th>\n",
       "      <th>mb</th>\n",
       "      <th>bh</th>\n",
       "      <th>bl</th>\n",
       "      <th>nh</th>\n",
       "    </tr>\n",
       "  </thead>\n",
       "  <tbody>\n",
       "    <tr>\n",
       "      <th>0</th>\n",
       "      <td>1</td>\n",
       "      <td>c4000BC</td>\n",
       "      <td>131</td>\n",
       "      <td>138</td>\n",
       "      <td>89</td>\n",
       "      <td>49</td>\n",
       "    </tr>\n",
       "    <tr>\n",
       "      <th>1</th>\n",
       "      <td>2</td>\n",
       "      <td>c4000BC</td>\n",
       "      <td>125</td>\n",
       "      <td>131</td>\n",
       "      <td>92</td>\n",
       "      <td>48</td>\n",
       "    </tr>\n",
       "    <tr>\n",
       "      <th>2</th>\n",
       "      <td>3</td>\n",
       "      <td>c4000BC</td>\n",
       "      <td>131</td>\n",
       "      <td>132</td>\n",
       "      <td>99</td>\n",
       "      <td>50</td>\n",
       "    </tr>\n",
       "    <tr>\n",
       "      <th>3</th>\n",
       "      <td>4</td>\n",
       "      <td>c4000BC</td>\n",
       "      <td>119</td>\n",
       "      <td>132</td>\n",
       "      <td>96</td>\n",
       "      <td>44</td>\n",
       "    </tr>\n",
       "    <tr>\n",
       "      <th>4</th>\n",
       "      <td>5</td>\n",
       "      <td>c4000BC</td>\n",
       "      <td>136</td>\n",
       "      <td>143</td>\n",
       "      <td>100</td>\n",
       "      <td>54</td>\n",
       "    </tr>\n",
       "  </tbody>\n",
       "</table>\n",
       "</div>"
      ],
      "text/plain": [
       "   Unnamed: 0    epoch   mb   bh   bl  nh\n",
       "0           1  c4000BC  131  138   89  49\n",
       "1           2  c4000BC  125  131   92  48\n",
       "2           3  c4000BC  131  132   99  50\n",
       "3           4  c4000BC  119  132   96  44\n",
       "4           5  c4000BC  136  143  100  54"
      ]
     },
     "execution_count": 3,
     "metadata": {},
     "output_type": "execute_result"
    }
   ],
   "source": [
    "#always have an idea of what my data looks like\n",
    "my_data.head()"
   ]
  },
  {
   "cell_type": "markdown",
   "metadata": {},
   "source": [
    "From my_data, construct the design matrix X, target label y"
   ]
  },
  {
   "cell_type": "code",
   "execution_count": 4,
   "metadata": {
    "collapsed": true
   },
   "outputs": [],
   "source": [
    "featureNames = list(my_data.columns.values)[2:6] #feature columns"
   ]
  },
  {
   "cell_type": "code",
   "execution_count": 5,
   "metadata": {},
   "outputs": [
    {
     "data": {
      "text/plain": [
       "array([[131, 138,  89,  49],\n",
       "       [125, 131,  92,  48],\n",
       "       [131, 132,  99,  50],\n",
       "       [119, 132,  96,  44],\n",
       "       [136, 143, 100,  54]], dtype=int64)"
      ]
     },
     "execution_count": 5,
     "metadata": {},
     "output_type": "execute_result"
    }
   ],
   "source": [
    "#remove column with target names since it non-numeric\n",
    "#axis = 1 means removal of columns not rows\n",
    "\n",
    "X = my_data.drop(my_data.columns[[0,1]], axis=1).values\n",
    "X[0:5]"
   ]
  },
  {
   "cell_type": "code",
   "execution_count": 6,
   "metadata": {},
   "outputs": [
    {
     "data": {
      "text/plain": [
       "['c4000BC', 'c3300BC', 'c1850BC', 'c200BC', 'cAD150']"
      ]
     },
     "execution_count": 6,
     "metadata": {},
     "output_type": "execute_result"
    }
   ],
   "source": [
    "targetNames = my_data[\"epoch\"].unique().tolist() #retreives unique epoch names and stores as list\n",
    "targetNames"
   ]
  },
  {
   "cell_type": "code",
   "execution_count": 7,
   "metadata": {},
   "outputs": [
    {
     "data": {
      "text/plain": [
       "0    c4000BC\n",
       "1    c4000BC\n",
       "2    c4000BC\n",
       "3    c4000BC\n",
       "4    c4000BC\n",
       "Name: epoch, dtype: object"
      ]
     },
     "execution_count": 7,
     "metadata": {},
     "output_type": "execute_result"
    }
   ],
   "source": [
    "y = my_data['epoch'] #y is epoch column\n",
    "y[0:5]\n"
   ]
  },
  {
   "cell_type": "markdown",
   "metadata": {},
   "source": []
  },
  {
   "cell_type": "markdown",
   "metadata": {},
   "source": [
    "<b> Setting Up the Decision Tree </b>"
   ]
  },
  {
   "cell_type": "code",
   "execution_count": 10,
   "metadata": {},
   "outputs": [
    {
     "name": "stdout",
     "output_type": "stream",
     "text": [
      "(105, 4)\n",
      "(105,)\n",
      "(45, 4)\n",
      "(45,)\n"
     ]
    }
   ],
   "source": [
    "from sklearn.cross_validation import train_test_split as tts\n",
    "X_trainset, X_testset, y_trainset, y_testset =  tts(X,y, test_size =0.3, random_state=3)\n",
    "\n",
    "#Ensure dimensions match\n",
    "print (X_trainset.shape) \n",
    "print (y_trainset.shape)\n",
    "print (X_testset.shape)\n",
    "print (y_testset.shape)"
   ]
  },
  {
   "cell_type": "code",
   "execution_count": 11,
   "metadata": {
    "collapsed": true
   },
   "outputs": [],
   "source": [
    "#Create an instance of DecisionTreeClassifier called skullsTree\n",
    "\n",
    "skullsTree = DecisionTreeClassifier(criterion = 'entropy') # to see the information gain of each node\n"
   ]
  },
  {
   "cell_type": "markdown",
   "metadata": {},
   "source": [
    " Next we will fit the X_training matrix and y_training vector"
   ]
  },
  {
   "cell_type": "code",
   "execution_count": 13,
   "metadata": {},
   "outputs": [],
   "source": [
    "skullsTree.fit(X_trainset, y_trainset)\n",
    "#make some predictions on the testing dataset and store predTree\n",
    "predTree =  skullsTree.fit(X_trainset, y_trainset)"
   ]
  },
  {
   "cell_type": "code",
   "execution_count": 18,
   "metadata": {},
   "outputs": [
    {
     "ename": "SyntaxError",
     "evalue": "Missing parentheses in call to 'print' (<ipython-input-18-6a0b6150e972>, line 3)",
     "output_type": "error",
     "traceback": [
      "\u001b[0;36m  File \u001b[0;32m\"<ipython-input-18-6a0b6150e972>\"\u001b[0;36m, line \u001b[0;32m3\u001b[0m\n\u001b[0;31m    print predTree [0:5]\u001b[0m\n\u001b[0m                 ^\u001b[0m\n\u001b[0;31mSyntaxError\u001b[0m\u001b[0;31m:\u001b[0m Missing parentheses in call to 'print'\n"
     ]
    }
   ],
   "source": [
    "#Lets compare predictiosn with actual values\n",
    "\n",
    "print predTree [0:5]\n",
    "print y_testset [0:5] "
   ]
  },
  {
   "cell_type": "code",
   "execution_count": 20,
   "metadata": {},
   "outputs": [
    {
     "name": "stdout",
     "output_type": "stream",
     "text": [
      "DecisionTee's Accuracy: \n"
     ]
    },
    {
     "data": {
      "text/plain": [
       "(None, <function sklearn.metrics.classification.accuracy_score>, 47     c3300BC\n",
       " 3      c4000BC\n",
       " 31     c3300BC\n",
       " 25     c4000BC\n",
       " 15     c4000BC\n",
       " 118     c200BC\n",
       " 89     c1850BC\n",
       " 6      c4000BC\n",
       " 103     c200BC\n",
       " 65     c1850BC\n",
       " 88     c1850BC\n",
       " 38     c3300BC\n",
       " 92      c200BC\n",
       " 53     c3300BC\n",
       " 140     cAD150\n",
       " 40     c3300BC\n",
       " 72     c1850BC\n",
       " 135     cAD150\n",
       " 113     c200BC\n",
       " 42     c3300BC\n",
       " 126     cAD150\n",
       " 112     c200BC\n",
       " 141     cAD150\n",
       " 76     c1850BC\n",
       " 5      c4000BC\n",
       " 109     c200BC\n",
       " 134     cAD150\n",
       " 67     c1850BC\n",
       " 57     c3300BC\n",
       " 86     c1850BC\n",
       " 14     c4000BC\n",
       " 24     c4000BC\n",
       " 139     cAD150\n",
       " 58     c3300BC\n",
       " 8      c4000BC\n",
       " 27     c4000BC\n",
       " 77     c1850BC\n",
       " 41     c3300BC\n",
       " 111     c200BC\n",
       " 68     c1850BC\n",
       " 128     cAD150\n",
       " 82     c1850BC\n",
       " 22     c4000BC\n",
       " 17     c4000BC\n",
       " 127     cAD150\n",
       " Name: epoch, dtype: object, DecisionTreeClassifier(class_weight=None, criterion='entropy', max_depth=None,\n",
       "             max_features=None, max_leaf_nodes=None, min_samples_leaf=1,\n",
       "             min_samples_split=2, min_weight_fraction_leaf=0.0,\n",
       "             presort=False, random_state=None, splitter='best'))"
      ]
     },
     "execution_count": 20,
     "metadata": {},
     "output_type": "execute_result"
    }
   ],
   "source": [
    "#checking accuracy of model\n",
    "\n",
    "from sklearn import metrics\n",
    "import matplotlib.pyplot as plt\n",
    "print( \"DecisionTee's Accuracy: \"), metrics.accuracy_score, y_testset, predTree"
   ]
  },
  {
   "cell_type": "code",
   "execution_count": 24,
   "metadata": {},
   "outputs": [
    {
     "ename": "SyntaxError",
     "evalue": "invalid syntax (<ipython-input-24-897e409789d5>, line 1)",
     "output_type": "error",
     "traceback": [
      "\u001b[0;36m  File \u001b[0;32m\"<ipython-input-24-897e409789d5>\"\u001b[0;36m, line \u001b[0;32m1\u001b[0m\n\u001b[0;31m    pip install pydotplus\u001b[0m\n\u001b[0m              ^\u001b[0m\n\u001b[0;31mSyntaxError\u001b[0m\u001b[0;31m:\u001b[0m invalid syntax\n"
     ]
    }
   ],
   "source": [
    "pip install pydotplus"
   ]
  },
  {
   "cell_type": "code",
   "execution_count": 25,
   "metadata": {},
   "outputs": [
    {
     "ename": "ImportError",
     "evalue": "No module named 'pydotplus'",
     "output_type": "error",
     "traceback": [
      "\u001b[0;31m---------------------------------------------------------------------------\u001b[0m",
      "\u001b[0;31mImportError\u001b[0m                               Traceback (most recent call last)",
      "\u001b[0;32m<ipython-input-25-b00f4dfd5f5b>\u001b[0m in \u001b[0;36m<module>\u001b[0;34m()\u001b[0m\n\u001b[1;32m      2\u001b[0m \u001b[1;33m\u001b[0m\u001b[0m\n\u001b[1;32m      3\u001b[0m \u001b[1;32mfrom\u001b[0m \u001b[0msklearn\u001b[0m\u001b[1;33m.\u001b[0m\u001b[0mexternals\u001b[0m\u001b[1;33m.\u001b[0m\u001b[0msix\u001b[0m \u001b[1;32mimport\u001b[0m \u001b[0mStringIO\u001b[0m\u001b[1;33m\u001b[0m\u001b[0m\n\u001b[0;32m----> 4\u001b[0;31m \u001b[1;32mimport\u001b[0m \u001b[0mpydotplus\u001b[0m\u001b[1;33m\u001b[0m\u001b[0m\n\u001b[0m\u001b[1;32m      5\u001b[0m \u001b[1;32mimport\u001b[0m \u001b[0mmatplotlib\u001b[0m\u001b[1;33m.\u001b[0m\u001b[0mimage\u001b[0m \u001b[1;32mas\u001b[0m \u001b[0mmpimg\u001b[0m\u001b[1;33m\u001b[0m\u001b[0m\n\u001b[1;32m      6\u001b[0m \u001b[1;32mfrom\u001b[0m \u001b[0msklearn\u001b[0m \u001b[1;32mimport\u001b[0m \u001b[0mtree\u001b[0m\u001b[1;33m\u001b[0m\u001b[0m\n",
      "\u001b[0;31mImportError\u001b[0m: No module named 'pydotplus'"
     ]
    }
   ],
   "source": [
    "#visualing DecisionTeree\n",
    "\n",
    "from sklearn.externals.six import StringIO\n",
    "import pydotplus\n",
    "import matplotlib.image as mpimg\n",
    "from sklearn import tree\n",
    "%matplotlib inline"
   ]
  },
  {
   "cell_type": "code",
   "execution_count": 26,
   "metadata": {},
   "outputs": [
    {
     "ename": "SyntaxError",
     "evalue": "invalid syntax (<ipython-input-26-f3e223958b82>, line 1)",
     "output_type": "error",
     "traceback": [
      "\u001b[0;36m  File \u001b[0;32m\"<ipython-input-26-f3e223958b82>\"\u001b[0;36m, line \u001b[0;32m1\u001b[0m\n\u001b[0;31m    conda install -c conda-forge pydotplus\u001b[0m\n\u001b[0m                ^\u001b[0m\n\u001b[0;31mSyntaxError\u001b[0m\u001b[0;31m:\u001b[0m invalid syntax\n"
     ]
    }
   ],
   "source": [
    "\n"
   ]
  },
  {
   "cell_type": "code",
   "execution_count": null,
   "metadata": {
    "collapsed": true
   },
   "outputs": [],
   "source": []
  }
 ],
 "metadata": {
  "anaconda-cloud": {},
  "kernelspec": {
   "display_name": "Python 3",
   "language": "python",
   "name": "python3"
  },
  "language_info": {
   "codemirror_mode": {
    "name": "ipython",
    "version": 3
   },
   "file_extension": ".py",
   "mimetype": "text/x-python",
   "name": "python",
   "nbconvert_exporter": "python",
   "pygments_lexer": "ipython3",
   "version": "3.6.2"
  }
 },
 "nbformat": 4,
 "nbformat_minor": 1
}
